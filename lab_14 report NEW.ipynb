{
  "nbformat": 4,
  "nbformat_minor": 0,
  "metadata": {
    "colab": {
      "provenance": [],
      "authorship_tag": "ABX9TyONw3+96z3sCCh/t29NvdtC",
      "include_colab_link": true
    },
    "kernelspec": {
      "name": "python3",
      "display_name": "Python 3"
    },
    "language_info": {
      "name": "python"
    }
  },
  "cells": [
    {
      "cell_type": "markdown",
      "metadata": {
        "id": "view-in-github",
        "colab_type": "text"
      },
      "source": [
        "<a href=\"https://colab.research.google.com/github/cbraun18/Bio125physiology/blob/main/lab_14%20report%20NEW.ipynb\" target=\"_parent\"><img src=\"https://colab.research.google.com/assets/colab-badge.svg\" alt=\"Open In Colab\"/></a>"
      ]
    },
    {
      "cell_type": "code",
      "execution_count": null,
      "metadata": {
        "id": "M1Q7dazdKz_n"
      },
      "outputs": [],
      "source": [
        "# import packages\n",
        "import statistics\n",
        "import pandas as pd\n",
        "import scipy.stats as stats\n",
        "from scipy.stats import sem\n",
        "from statistics import mean, stdev\n",
        "import matplotlib.pyplot as plt\n",
        "import numpy as np\n",
        "#include if using a jupyter notebook, remove if using a .py file\n",
        "%matplotlib inline"
      ]
    },
    {
      "cell_type": "code",
      "source": [
        "fvc=[2.7,3.7,3.2,3.45,3.2,3.1]\n",
        "mvc=[3.3,4.5,3.7]"
      ],
      "metadata": {
        "id": "9j0pocE_LqT0"
      },
      "execution_count": null,
      "outputs": []
    },
    {
      "cell_type": "code",
      "source": [
        "fvcmean= mean(fvc)\n",
        "mvcmean= mean(mvc)"
      ],
      "metadata": {
        "id": "uSH3wCJeNIp2"
      },
      "execution_count": null,
      "outputs": []
    },
    {
      "cell_type": "code",
      "source": [
        "mvcmean"
      ],
      "metadata": {
        "colab": {
          "base_uri": "https://localhost:8080/"
        },
        "id": "QZReQ-_RNrx4",
        "outputId": "50f2f809-8387-41cd-fce4-1154010b18bc"
      },
      "execution_count": null,
      "outputs": [
        {
          "output_type": "execute_result",
          "data": {
            "text/plain": [
              "3.8333333333333335"
            ]
          },
          "metadata": {},
          "execution_count": 13
        }
      ]
    },
    {
      "cell_type": "code",
      "source": [
        "fvcmean"
      ],
      "metadata": {
        "colab": {
          "base_uri": "https://localhost:8080/"
        },
        "id": "NGIKbJwjNvGa",
        "outputId": "b0c1b365-31d7-427e-8410-57875ce18ad7"
      },
      "execution_count": null,
      "outputs": [
        {
          "output_type": "execute_result",
          "data": {
            "text/plain": [
              "3.225"
            ]
          },
          "metadata": {},
          "execution_count": 14
        }
      ]
    },
    {
      "cell_type": "code",
      "source": [
        "#display the SEM\n",
        "fvcsem = sem(fvc)\n",
        "mvcsem= sem(mvc)"
      ],
      "metadata": {
        "id": "aUFAQ21fNwcg"
      },
      "execution_count": null,
      "outputs": []
    },
    {
      "cell_type": "code",
      "source": [
        "fvcsem, mvcsem"
      ],
      "metadata": {
        "colab": {
          "base_uri": "https://localhost:8080/"
        },
        "id": "FF2-lYDdO6rG",
        "outputId": "5e32cb3e-a97e-4244-e51c-83e70504350c"
      },
      "execution_count": null,
      "outputs": [
        {
          "output_type": "execute_result",
          "data": {
            "text/plain": [
              "(0.13768926368215256, 0.3527668414752788)"
            ]
          },
          "metadata": {},
          "execution_count": 21
        }
      ]
    },
    {
      "cell_type": "code",
      "source": [
        "plt.bar(['Female', 'Male',],[fvcmean,mvcmean],yerr=[fvcsem,mvcsem], capsize=10)\n",
        "plt.xlabel('biological sex')\n",
        "plt.ylabel('vital capacity (L))')\n",
        "plt.title('Vital Capacity Differences in Female vs. Male')"
      ],
      "metadata": {
        "colab": {
          "base_uri": "https://localhost:8080/",
          "height": 490
        },
        "id": "CEBqDKYrPB02",
        "outputId": "7ac78e84-5814-4989-e2d2-0133330651db"
      },
      "execution_count": null,
      "outputs": [
        {
          "output_type": "execute_result",
          "data": {
            "text/plain": [
              "Text(0.5, 1.0, 'Vital Capacity Differences in Female vs. Male')"
            ]
          },
          "metadata": {},
          "execution_count": 28
        },
        {
          "output_type": "display_data",
          "data": {
            "text/plain": [
              "<Figure size 640x480 with 1 Axes>"
            ],
            "image/png": "[encoded data removed]"
          },
          "metadata": {}
        }
      ]
    },
    {
      "cell_type": "code",
      "source": [
        "ffev1=[2.37,3.37,2.6,2.69,3.13,2.44]\n",
        "mfev1=[3.3,4.86,3.7]"
      ],
      "metadata": {
        "id": "BrDCBIshTbE1"
      },
      "execution_count": null,
      "outputs": []
    },
    {
      "cell_type": "code",
      "source": [
        "ffev1mean= mean(ffev1)\n",
        "mfev1mean= mean(mfev1)"
      ],
      "metadata": {
        "id": "c9Ie0MTPWLMD"
      },
      "execution_count": null,
      "outputs": []
    },
    {
      "cell_type": "code",
      "source": [
        "ffev1mean"
      ],
      "metadata": {
        "colab": {
          "base_uri": "https://localhost:8080/"
        },
        "id": "OFmi6byDWdER",
        "outputId": "23cbbf67-a988-4367-e8b2-b5f921cf18b7"
      },
      "execution_count": null,
      "outputs": [
        {
          "output_type": "execute_result",
          "data": {
            "text/plain": [
              "2.7666666666666666"
            ]
          },
          "metadata": {},
          "execution_count": 33
        }
      ]
    },
    {
      "cell_type": "code",
      "source": [
        "mfev1mean"
      ],
      "metadata": {
        "colab": {
          "base_uri": "https://localhost:8080/"
        },
        "id": "4MpXeltmWkHx",
        "outputId": "6832623f-49b6-4938-ca02-f918148a7aea"
      },
      "execution_count": null,
      "outputs": [
        {
          "output_type": "execute_result",
          "data": {
            "text/plain": [
              "3.9533333333333336"
            ]
          },
          "metadata": {},
          "execution_count": 34
        }
      ]
    },
    {
      "cell_type": "code",
      "source": [
        "ffev1sem= sem(ffev1)"
      ],
      "metadata": {
        "id": "u5dDVnKSWmQq"
      },
      "execution_count": null,
      "outputs": []
    },
    {
      "cell_type": "code",
      "source": [
        "mfev1sem= sem(mfev1)"
      ],
      "metadata": {
        "id": "MqX-6yInW0cs"
      },
      "execution_count": null,
      "outputs": []
    },
    {
      "cell_type": "code",
      "source": [
        "plt.bar(['Female', 'Male',],[ffev1mean,mfev1mean],yerr=[ffev1sem,mfev1sem], capsize=10)\n",
        "plt.xlabel('biological sex')\n",
        "plt.ylabel('vital capacity (L))')\n",
        "plt.title('Vital Capacity Differences in Female vs. Male')"
      ],
      "metadata": {
        "colab": {
          "base_uri": "https://localhost:8080/",
          "height": 490
        },
        "id": "pzOnSU0LW1eC",
        "outputId": "ed8580cc-86aa-4bfd-af58-6629936447a0"
      },
      "execution_count": null,
      "outputs": [
        {
          "output_type": "execute_result",
          "data": {
            "text/plain": [
              "Text(0.5, 1.0, 'Vital Capacity Differences in Female vs. Male')"
            ]
          },
          "metadata": {},
          "execution_count": 38
        },
        {
          "output_type": "display_data",
          "data": {
            "text/plain": [
              "<Figure size 640x480 with 1 Axes>"
            ],
            "image/png": "[encoded data removed]"
          },
          "metadata": {}
        }
      ]
    },
    {
      "cell_type": "code",
      "source": [],
      "metadata": {
        "id": "vnwjQU41XB8U"
      },
      "execution_count": null,
      "outputs": []
    },
    {
      "cell_type": "markdown",
      "source": [
        "PURPOSE: A Forced Vital Capacity (FVC) is an important test in that it measures the rate at which air is expelled from the lungs. Healthy lungs should be able to forcefully expel at least 80% of the vital capacity within one second and about 95% within three seconds. Failure to expel these volumes indicates an apparent air entrapment in the lungs indicative of asthma, chronic bronchitis, or emphysema.\n",
        "\n",
        "PROCEDURE: Allow the pneumotach to equalize, then place mouthpiece in mouth, start with regular breathing, and then take a deep breath, and then exhale as fast as you can until you can't.\n",
        "\n",
        "RESULT: The male participants in the trial showed to have larger volume than the female participants in both vital capcaity and forced expiratory volume experiments.\n",
        "\n",
        "DISCUSSION: Anatomically, it makes sense that the male participants have larger volumes than females. Biological females tend to have smaller frames, smaller build, and tend to be smaller than males.\n",
        "\n",
        "CONCLUSION: The bar graphs show that the male participants had larger lung capacity than the female participants."
      ],
      "metadata": {
        "id": "0Y6vaO9wP_4G"
      }
    }
  ]
}