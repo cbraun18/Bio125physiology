{
  "nbformat": 4,
  "nbformat_minor": 0,
  "metadata": {
    "colab": {
      "provenance": [],
      "authorship_tag": "ABX9TyP8b8tvaG3quHzu2kNmzgAl",
      "include_colab_link": true
    },
    "kernelspec": {
      "name": "python3",
      "display_name": "Python 3"
    },
    "language_info": {
      "name": "python"
    }
  },
  "cells": [
    {
      "cell_type": "markdown",
      "metadata": {
        "id": "view-in-github",
        "colab_type": "text"
      },
      "source": [
        "<a href=\"https://colab.research.google.com/github/cbraun18/Bio125physiology/blob/main/lab_14%20bar%20graph.ipynb\" target=\"_parent\"><img src=\"https://colab.research.google.com/assets/colab-badge.svg\" alt=\"Open In Colab\"/></a>"
      ]
    },
    {
      "cell_type": "code",
      "execution_count": 1,
      "metadata": {
        "id": "M1Q7dazdKz_n"
      },
      "outputs": [],
      "source": [
        "# import packages\n",
        "import statistics\n",
        "import pandas as pd\n",
        "import scipy.stats as stats\n",
        "from scipy.stats import sem\n",
        "from statistics import mean, stdev\n",
        "import matplotlib.pyplot as plt\n",
        "import numpy as np\n",
        "#include if using a jupyter notebook, remove if using a .py file\n",
        "%matplotlib inline"
      ]
    },
    {
      "cell_type": "code",
      "source": [
        "fvc=[2.7,3.7,3.2,3.45,3.2,3.1]\n",
        "mvc=[3.3,4.5,3.7]"
      ],
      "metadata": {
        "id": "9j0pocE_LqT0"
      },
      "execution_count": 8,
      "outputs": []
    },
    {
      "cell_type": "code",
      "source": [
        "fvcmean= mean(fvc)\n",
        "mvcmean= mean(mvc)"
      ],
      "metadata": {
        "id": "uSH3wCJeNIp2"
      },
      "execution_count": 12,
      "outputs": []
    },
    {
      "cell_type": "code",
      "source": [
        "mvcmean"
      ],
      "metadata": {
        "colab": {
          "base_uri": "https://localhost:8080/"
        },
        "id": "QZReQ-_RNrx4",
        "outputId": "50f2f809-8387-41cd-fce4-1154010b18bc"
      },
      "execution_count": 13,
      "outputs": [
        {
          "output_type": "execute_result",
          "data": {
            "text/plain": [
              "3.8333333333333335"
            ]
          },
          "metadata": {},
          "execution_count": 13
        }
      ]
    },
    {
      "cell_type": "code",
      "source": [
        "fvcmean"
      ],
      "metadata": {
        "colab": {
          "base_uri": "https://localhost:8080/"
        },
        "id": "NGIKbJwjNvGa",
        "outputId": "b0c1b365-31d7-427e-8410-57875ce18ad7"
      },
      "execution_count": 14,
      "outputs": [
        {
          "output_type": "execute_result",
          "data": {
            "text/plain": [
              "3.225"
            ]
          },
          "metadata": {},
          "execution_count": 14
        }
      ]
    },
    {
      "cell_type": "code",
      "source": [
        "#display the SEM\n",
        "fvcsem = sem(fvc)\n",
        "mvcsem= sem(mvc)"
      ],
      "metadata": {
        "id": "aUFAQ21fNwcg"
      },
      "execution_count": 18,
      "outputs": []
    },
    {
      "cell_type": "code",
      "source": [
        "fvcsem, mvcsem"
      ],
      "metadata": {
        "colab": {
          "base_uri": "https://localhost:8080/"
        },
        "id": "FF2-lYDdO6rG",
        "outputId": "5e32cb3e-a97e-4244-e51c-83e70504350c"
      },
      "execution_count": 21,
      "outputs": [
        {
          "output_type": "execute_result",
          "data": {
            "text/plain": [
              "(0.13768926368215256, 0.3527668414752788)"
            ]
          },
          "metadata": {},
          "execution_count": 21
        }
      ]
    },
    {
      "cell_type": "code",
      "source": [
        "plt.bar(['Female', 'Male',],[fvcmean,mvcmean],yerr=[fvcsem,mvcsem], capsize=10)\n",
        "plt.xlabel('biological sex')\n",
        "plt.ylabel('vital capacity (L))')\n",
        "plt.title('Vital Capacity Differences in Female vs. Male')"
      ],
      "metadata": {
        "colab": {
          "base_uri": "https://localhost:8080/",
          "height": 490
        },
        "id": "CEBqDKYrPB02",
        "outputId": "7ac78e84-5814-4989-e2d2-0133330651db"
      },
      "execution_count": 28,
      "outputs": [
        {
          "output_type": "execute_result",
          "data": {
            "text/plain": [
              "Text(0.5, 1.0, 'Vital Capacity Differences in Female vs. Male')"
            ]
          },
          "metadata": {},
          "execution_count": 28
        },
        {
          "output_type": "display_data",
          "data": {
            "text/plain": [
              "<Figure size 640x480 with 1 Axes>"
            ],
            "image/png": "[encoded data removed]"
          },
          "metadata": {}
        }
      ]
    },
    {
      "cell_type": "code",
      "source": [],
      "metadata": {
        "id": "BrDCBIshTbE1"
      },
      "execution_count": 25,
      "outputs": []
    }
  ]
}